{
 "cells": [
  {
   "cell_type": "raw",
   "id": "d6b24d79-7b2b-46c5-ad30-133ffebde187",
   "metadata": {},
   "source": [
    "KEYWORDS:\n",
    "Keywords are the reserved words in python\n",
    "We can't use a keyword as variable as var name, function name or any other identifier\n",
    "Keywords are case sensitive"
   ]
  },
  {
   "cell_type": "code",
   "execution_count": 1,
   "id": "90205bf8-264b-413e-a807-0a734c8a9fb7",
   "metadata": {},
   "outputs": [
    {
     "name": "stdout",
     "output_type": "stream",
     "text": [
      "['False', 'None', 'True', 'and', 'as', 'assert', 'async', 'await', 'break', 'class', 'continue', 'def', 'del', 'elif', 'else', 'except', 'finally', 'for', 'from', 'global', 'if', 'import', 'in', 'is', 'lambda', 'nonlocal', 'not', 'or', 'pass', 'raise', 'return', 'try', 'while', 'with', 'yield']\n",
      "\n",
      "Total no.of keywords:  35\n"
     ]
    }
   ],
   "source": [
    "#To Get All keywords in python\n",
    "import keyword\n",
    "print(keyword.kwlist)\n",
    "print(\"\\nTotal no.of keywords: \", len(keyword.kwlist))"
   ]
  },
  {
   "cell_type": "markdown",
   "id": "266aee87-ec5c-4f88-9273-80072846e405",
   "metadata": {},
   "source": [
    "IDENTIFIERS:\n",
    "It is the name given to functions,class,variables etc.in Python\n",
    "RULES for writing Identifiers:\n",
    "1.Can be a combination of (a to z) or (A to Z) or (0 to 9) or an underscore(_)\n",
    "2.Identifiers can't start with a digit. (1var is invalid but var1 is valid).\n",
    "3.Keywords can't be used as identifiers.\n",
    "4.We can't use spl symbols like !,@,#,$,%"
   ]
  }
 ],
 "metadata": {
  "kernelspec": {
   "display_name": "Python 3 (ipykernel)",
   "language": "python",
   "name": "python3"
  },
  "language_info": {
   "codemirror_mode": {
    "name": "ipython",
    "version": 3
   },
   "file_extension": ".py",
   "mimetype": "text/x-python",
   "name": "python",
   "nbconvert_exporter": "python",
   "pygments_lexer": "ipython3",
   "version": "3.13.5"
  }
 },
 "nbformat": 4,
 "nbformat_minor": 5
}
